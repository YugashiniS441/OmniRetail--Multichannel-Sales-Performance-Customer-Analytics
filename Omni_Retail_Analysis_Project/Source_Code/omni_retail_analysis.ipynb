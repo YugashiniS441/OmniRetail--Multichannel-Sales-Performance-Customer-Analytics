{
 "cells": [
  {
   "cell_type": "code",
   "execution_count": null,
   "id": "08395abf",
   "metadata": {},
   "outputs": [],
   "source": [
    "# Import necessary libraries\n",
    "\n",
    "import pandas as pd\n",
    "import numpy as np\n",
    "import matplotlib.pyplot as plt\n",
    "import seaborn as sns"
   ]
  },
  {
   "cell_type": "code",
   "execution_count": null,
   "id": "c33ec523",
   "metadata": {},
   "outputs": [],
   "source": [
    "# Loading dataset from CSV\n",
    "\n",
    "sales_data = pd.read_csv(r\"C:\\Users\\dell\\Downloads\\sales_data_with_customer.csv\")\n",
    "customer_data = pd.read_csv(r\"C:\\Users\\dell\\Downloads\\customer_data.csv\")\n",
    "product_data = pd.read_csv(r\"C:\\Users\\dell\\Downloads\\product_data.csv\")\n",
    "marketing_data = pd.read_csv(r\"C:\\Users\\dell\\Downloads\\marketing_data.csv\")"
   ]
  },
  {
   "cell_type": "code",
   "execution_count": null,
   "id": "7cc74b05",
   "metadata": {},
   "outputs": [],
   "source": [
    "# Merge Sales with Customers\n",
    "\n",
    "sales_customers_df = pd.merge(sales_data, customer_data, on='Customer_ID', how='left')\n"
   ]
  },
  {
   "cell_type": "code",
   "execution_count": null,
   "id": "ea43ce8e",
   "metadata": {},
   "outputs": [],
   "source": [
    "# Merge with Products\n",
    "\n",
    "sales_customers_products_df = pd.merge(sales_customers_df, product_data, on='Product_ID', how='left')\n"
   ]
  },
  {
   "cell_type": "code",
   "execution_count": null,
   "id": "5b9dc482",
   "metadata": {},
   "outputs": [
    {
     "data": {
      "text/plain": [
       "Order_ID               int64\n",
       "Product_ID             int64\n",
       "Store_ID               int64\n",
       "Channel               object\n",
       "Date                  object\n",
       "Quantity_Sold          int64\n",
       "Unit_Price           float64\n",
       "Discount             float64\n",
       "Customer_ID            int64\n",
       "Revenue              float64\n",
       "Gender                object\n",
       "Age                    int64\n",
       "Location              object\n",
       "Signup_Date           object\n",
       "Preferred_Channel     object\n",
       "Loyalty_Status        object\n",
       "Category              object\n",
       "Sub_Category          object\n",
       "Brand                 object\n",
       "Cost_Price           float64\n",
       "Launch_Date           object\n",
       "dtype: object"
      ]
     },
     "execution_count": 8,
     "metadata": {},
     "output_type": "execute_result"
    }
   ],
   "source": [
    "# show data types of each column\n",
    "sales_customers_products_df.dtypes"
   ]
  },
  {
   "cell_type": "code",
   "execution_count": null,
   "id": "0b5d5fcc",
   "metadata": {},
   "outputs": [],
   "source": [
    "# Convert date columns to datetime\n",
    "sales_customers_products_df['Date'] = pd.to_datetime(sales_customers_products_df['Date'])\n",
    "marketing_data['Start_Date'] = pd.to_datetime(marketing_data['Start_Date'])\n",
    "marketing_data['End_Date'] = pd.to_datetime(marketing_data['End_Date'])"
   ]
  },
  {
   "cell_type": "code",
   "execution_count": null,
   "id": "25a09cb3",
   "metadata": {},
   "outputs": [],
   "source": [
    "#  Merge with marketing data on Channel and Category\n",
    "merged = pd.merge(\n",
    "    sales_customers_products_df,marketing_data,how='left',\n",
    "    left_on=[\"Channel\", \"Category\"],\n",
    "    right_on=[\"Channel\", \"Targeted_Category\"]\n",
    ")"
   ]
  },
  {
   "cell_type": "code",
   "execution_count": 11,
   "id": "6b277972",
   "metadata": {},
   "outputs": [],
   "source": [
    "#  Filter rows where sale date is within campaign dates\n",
    "df = merged[\n",
    "    (merged['Date'] >= merged['Start_Date']) &\n",
    "    (merged['Date'] <= merged['End_Date'])\n",
    "]"
   ]
  },
  {
   "cell_type": "code",
   "execution_count": null,
   "id": "f60a5234",
   "metadata": {},
   "outputs": [
    {
     "data": {
      "text/plain": [
       "Index(['Order_ID', 'Product_ID', 'Store_ID', 'Channel', 'Date',\n",
       "       'Quantity_Sold', 'Unit_Price', 'Discount', 'Customer_ID', 'Revenue',\n",
       "       'Gender', 'Age', 'Location', 'Signup_Date', 'Preferred_Channel',\n",
       "       'Loyalty_Status', 'Category', 'Sub_Category', 'Brand', 'Cost_Price',\n",
       "       'Launch_Date', 'Campaign_ID', 'Start_Date', 'End_Date', 'Spend',\n",
       "       'Targeted_Category', 'Revenue_Attributed'],\n",
       "      dtype='object')"
      ]
     },
     "execution_count": 12,
     "metadata": {},
     "output_type": "execute_result"
    }
   ],
   "source": [
    "# show columns\n",
    "df.columns"
   ]
  },
  {
   "cell_type": "code",
   "execution_count": null,
   "id": "c49355d0",
   "metadata": {},
   "outputs": [
    {
     "data": {
      "text/plain": [
       "Order_ID              0\n",
       "Product_ID            0\n",
       "Store_ID              0\n",
       "Channel               0\n",
       "Date                  0\n",
       "Quantity_Sold         0\n",
       "Unit_Price            0\n",
       "Discount              0\n",
       "Customer_ID           0\n",
       "Revenue               0\n",
       "Gender                0\n",
       "Age                   0\n",
       "Location              0\n",
       "Signup_Date           0\n",
       "Preferred_Channel     0\n",
       "Loyalty_Status        0\n",
       "Category              0\n",
       "Sub_Category          0\n",
       "Brand                 0\n",
       "Cost_Price            0\n",
       "Launch_Date           0\n",
       "Campaign_ID           0\n",
       "Start_Date            0\n",
       "End_Date              0\n",
       "Spend                 0\n",
       "Targeted_Category     0\n",
       "Revenue_Attributed    0\n",
       "dtype: int64"
      ]
     },
     "execution_count": 13,
     "metadata": {},
     "output_type": "execute_result"
    }
   ],
   "source": [
    "# checking null values\n",
    "df.isna().sum()"
   ]
  },
  {
   "cell_type": "code",
   "execution_count": null,
   "id": "433bbd36",
   "metadata": {},
   "outputs": [],
   "source": [
    "# Drop diplicates\n",
    "df = df.drop_duplicates()"
   ]
  },
  {
   "cell_type": "code",
   "execution_count": null,
   "id": "7639d7f0",
   "metadata": {},
   "outputs": [],
   "source": [
    "# Data type conversion\n",
    "\n",
    "date_cols = ['Date', 'Launch_Date', 'Signup_Date', 'Start_Date', 'End_Date']\n",
    "for col in date_cols:\n",
    "    df[col] = pd.to_datetime(df[col], errors='coerce')"
   ]
  },
  {
   "cell_type": "code",
   "execution_count": null,
   "id": "422ca9a8",
   "metadata": {},
   "outputs": [
    {
     "data": {
      "image/png": "[encoded data removed]",
      "text/plain": [
       "<Figure size 600x300 with 1 Axes>"
      ]
     },
     "metadata": {},
     "output_type": "display_data"
    },
    {
     "data": {
      "image/png": "[encoded data removed]",
      "text/plain": [
       "<Figure size 600x300 with 1 Axes>"
      ]
     },
     "metadata": {},
     "output_type": "display_data"
    },
    {
     "data": {
      "image/png": "[encoded data removed]",
      "text/plain": [
       "<Figure size 600x300 with 1 Axes>"
      ]
     },
     "metadata": {},
     "output_type": "display_data"
    },
    {
     "data": {
      "image/png": "[encoded data removed]",
      "text/plain": [
       "<Figure size 600x300 with 1 Axes>"
      ]
     },
     "metadata": {},
     "output_type": "display_data"
    },
    {
     "data": {
      "image/png": "[encoded data removed]",
      "text/plain": [
       "<Figure size 600x300 with 1 Axes>"
      ]
     },
     "metadata": {},
     "output_type": "display_data"
    },
    {
     "data": {
      "image/png": "[encoded data removed]",
      "text/plain": [
       "<Figure size 600x300 with 1 Axes>"
      ]
     },
     "metadata": {},
     "output_type": "display_data"
    },
    {
     "data": {
      "image/png": "[encoded data removed]",
      "text/plain": [
       "<Figure size 600x300 with 1 Axes>"
      ]
     },
     "metadata": {},
     "output_type": "display_data"
    }
   ],
   "source": [
    "# Visualizing outliers using a boxplot\n",
    "\n",
    "import matplotlib.pyplot as plt\n",
    "import seaborn as sns\n",
    "\n",
    "cols_to_check = ['Quantity_Sold', 'Unit_Price', 'Discount', 'Revenue', 'Cost_Price', 'Age', 'Spend']\n",
    "\n",
    "for col in cols_to_check:\n",
    "    plt.figure(figsize=(6, 3))\n",
    "    sns.boxplot(x=df[col])\n",
    "    plt.title(f'Boxplot of {col}')\n",
    "    plt.show()\n"
   ]
  },
  {
   "cell_type": "code",
   "execution_count": null,
   "id": "c233b1ee",
   "metadata": {},
   "outputs": [
    {
     "name": "stdout",
     "output_type": "stream",
     "text": [
      "Quantity_Sold: 0 outliers\n",
      "Unit_Price: 0 outliers\n",
      "Discount: 0 outliers\n",
      "Revenue: 27 outliers\n",
      "Cost_Price: 0 outliers\n",
      "Age: 0 outliers\n",
      "Spend: 0 outliers\n"
     ]
    }
   ],
   "source": [
    "# Counting outliers in each numeric column using IQR method\n",
    "\n",
    "def count_outliers_iqr(series):\n",
    "    Q1 = series.quantile(0.25)\n",
    "    Q3 = series.quantile(0.75)\n",
    "    IQR = Q3 - Q1\n",
    "    lower = Q1 - 1.5 * IQR\n",
    "    upper = Q3 + 1.5 * IQR\n",
    "    return ((series < lower) | (series > upper)).sum()\n",
    "\n",
    "for col in cols_to_check:\n",
    "    count = count_outliers_iqr(df[col])\n",
    "    print(f\"{col}: {count} outliers\")\n"
   ]
  },
  {
   "cell_type": "code",
   "execution_count": null,
   "id": "317fd4a6",
   "metadata": {},
   "outputs": [],
   "source": [
    "# Calculating profit\n",
    "\n",
    "df['Profit'] = df['Revenue'] - (df['Quantity_Sold'] * df['Cost_Price'])"
   ]
  },
  {
   "cell_type": "code",
   "execution_count": null,
   "id": "363ed8d0",
   "metadata": {},
   "outputs": [],
   "source": [
    "# Categorizing customers into age groups\n",
    "\n",
    "def age_group(age):\n",
    "    if age < 25:\n",
    "        return 'Young'\n",
    "    elif age < 35:\n",
    "        return 'Adult'\n",
    "    elif age < 50:\n",
    "        return 'Middle-aged'\n",
    "    else:\n",
    "        return 'Old-aged'\n",
    "df['Customer_Age_Group'] = df['Age'].apply(age_group)\n"
   ]
  },
  {
   "cell_type": "code",
   "execution_count": null,
   "id": "ec9958b3",
   "metadata": {},
   "outputs": [],
   "source": [
    "# Identifying customers who switched their preferred channel\n",
    "\n",
    "df['Channel_Switcher_Flag'] = (df['Channel'] != df['Preferred_Channel']).astype(int)\n"
   ]
  },
  {
   "cell_type": "code",
   "execution_count": null,
   "id": "90a8638e",
   "metadata": {},
   "outputs": [],
   "source": [
    "#save result data to csv\n",
    "\n",
    "df.to_csv(\"omni_retail_sales.csv\",index=False)"
   ]
  },
  {
   "cell_type": "code",
   "execution_count": null,
   "id": "d772e0e3",
   "metadata": {},
   "outputs": [
    {
     "data": {
      "text/html": [
       "<div>\n",
       "<style scoped>\n",
       "    .dataframe tbody tr th:only-of-type {\n",
       "        vertical-align: middle;\n",
       "    }\n",
       "\n",
       "    .dataframe tbody tr th {\n",
       "        vertical-align: top;\n",
       "    }\n",
       "\n",
       "    .dataframe thead th {\n",
       "        text-align: right;\n",
       "    }\n",
       "</style>\n",
       "<table border=\"1\" class=\"dataframe\">\n",
       "  <thead>\n",
       "    <tr style=\"text-align: right;\">\n",
       "      <th></th>\n",
       "      <th>Order_ID</th>\n",
       "      <th>Product_ID</th>\n",
       "      <th>Store_ID</th>\n",
       "      <th>Channel</th>\n",
       "      <th>Date</th>\n",
       "      <th>Quantity_Sold</th>\n",
       "      <th>Unit_Price</th>\n",
       "      <th>Discount</th>\n",
       "      <th>Customer_ID</th>\n",
       "      <th>Revenue</th>\n",
       "      <th>...</th>\n",
       "      <th>Launch_Date</th>\n",
       "      <th>Campaign_ID</th>\n",
       "      <th>Start_Date</th>\n",
       "      <th>End_Date</th>\n",
       "      <th>Spend</th>\n",
       "      <th>Targeted_Category</th>\n",
       "      <th>Revenue_Attributed</th>\n",
       "      <th>Profit</th>\n",
       "      <th>Customer_Age_Group</th>\n",
       "      <th>Channel_Switcher_Flag</th>\n",
       "    </tr>\n",
       "  </thead>\n",
       "  <tbody>\n",
       "    <tr>\n",
       "      <th>1</th>\n",
       "      <td>10001</td>\n",
       "      <td>2034</td>\n",
       "      <td>17</td>\n",
       "      <td>Online</td>\n",
       "      <td>2023-05-21</td>\n",
       "      <td>1</td>\n",
       "      <td>80.18</td>\n",
       "      <td>0.12</td>\n",
       "      <td>3013</td>\n",
       "      <td>70.56</td>\n",
       "      <td>...</td>\n",
       "      <td>2022-06-23</td>\n",
       "      <td>5020</td>\n",
       "      <td>2023-01-21</td>\n",
       "      <td>2023-07-30</td>\n",
       "      <td>2472.34</td>\n",
       "      <td>Toys</td>\n",
       "      <td>7437.40</td>\n",
       "      <td>34.35</td>\n",
       "      <td>Young</td>\n",
       "      <td>1</td>\n",
       "    </tr>\n",
       "    <tr>\n",
       "      <th>2</th>\n",
       "      <td>10001</td>\n",
       "      <td>2034</td>\n",
       "      <td>17</td>\n",
       "      <td>Online</td>\n",
       "      <td>2023-05-21</td>\n",
       "      <td>1</td>\n",
       "      <td>80.18</td>\n",
       "      <td>0.12</td>\n",
       "      <td>3013</td>\n",
       "      <td>70.56</td>\n",
       "      <td>...</td>\n",
       "      <td>2022-06-23</td>\n",
       "      <td>5042</td>\n",
       "      <td>2023-01-23</td>\n",
       "      <td>2023-05-25</td>\n",
       "      <td>2108.81</td>\n",
       "      <td>Toys</td>\n",
       "      <td>8582.11</td>\n",
       "      <td>34.35</td>\n",
       "      <td>Young</td>\n",
       "      <td>1</td>\n",
       "    </tr>\n",
       "    <tr>\n",
       "      <th>3</th>\n",
       "      <td>10001</td>\n",
       "      <td>2034</td>\n",
       "      <td>17</td>\n",
       "      <td>Online</td>\n",
       "      <td>2023-05-21</td>\n",
       "      <td>1</td>\n",
       "      <td>80.18</td>\n",
       "      <td>0.12</td>\n",
       "      <td>3013</td>\n",
       "      <td>70.56</td>\n",
       "      <td>...</td>\n",
       "      <td>2022-06-23</td>\n",
       "      <td>5044</td>\n",
       "      <td>2023-05-09</td>\n",
       "      <td>2023-08-20</td>\n",
       "      <td>3392.61</td>\n",
       "      <td>Toys</td>\n",
       "      <td>8797.85</td>\n",
       "      <td>34.35</td>\n",
       "      <td>Young</td>\n",
       "      <td>1</td>\n",
       "    </tr>\n",
       "    <tr>\n",
       "      <th>8</th>\n",
       "      <td>10001</td>\n",
       "      <td>2034</td>\n",
       "      <td>17</td>\n",
       "      <td>Online</td>\n",
       "      <td>2023-05-21</td>\n",
       "      <td>1</td>\n",
       "      <td>80.18</td>\n",
       "      <td>0.12</td>\n",
       "      <td>3013</td>\n",
       "      <td>70.56</td>\n",
       "      <td>...</td>\n",
       "      <td>2022-06-23</td>\n",
       "      <td>5068</td>\n",
       "      <td>2023-02-10</td>\n",
       "      <td>2023-09-09</td>\n",
       "      <td>825.61</td>\n",
       "      <td>Toys</td>\n",
       "      <td>7988.38</td>\n",
       "      <td>34.35</td>\n",
       "      <td>Young</td>\n",
       "      <td>1</td>\n",
       "    </tr>\n",
       "    <tr>\n",
       "      <th>9</th>\n",
       "      <td>10001</td>\n",
       "      <td>2034</td>\n",
       "      <td>17</td>\n",
       "      <td>Online</td>\n",
       "      <td>2023-05-21</td>\n",
       "      <td>1</td>\n",
       "      <td>80.18</td>\n",
       "      <td>0.12</td>\n",
       "      <td>3013</td>\n",
       "      <td>70.56</td>\n",
       "      <td>...</td>\n",
       "      <td>2022-06-23</td>\n",
       "      <td>5077</td>\n",
       "      <td>2023-03-02</td>\n",
       "      <td>2023-06-17</td>\n",
       "      <td>1747.66</td>\n",
       "      <td>Toys</td>\n",
       "      <td>4743.91</td>\n",
       "      <td>34.35</td>\n",
       "      <td>Young</td>\n",
       "      <td>1</td>\n",
       "    </tr>\n",
       "  </tbody>\n",
       "</table>\n",
       "<p>5 rows × 30 columns</p>\n",
       "</div>"
      ],
      "text/plain": [
       "   Order_ID  Product_ID  Store_ID Channel       Date  Quantity_Sold  \\\n",
       "1     10001        2034        17  Online 2023-05-21              1   \n",
       "2     10001        2034        17  Online 2023-05-21              1   \n",
       "3     10001        2034        17  Online 2023-05-21              1   \n",
       "8     10001        2034        17  Online 2023-05-21              1   \n",
       "9     10001        2034        17  Online 2023-05-21              1   \n",
       "\n",
       "   Unit_Price  Discount  Customer_ID  Revenue  ... Launch_Date  Campaign_ID  \\\n",
       "1       80.18      0.12         3013    70.56  ...  2022-06-23         5020   \n",
       "2       80.18      0.12         3013    70.56  ...  2022-06-23         5042   \n",
       "3       80.18      0.12         3013    70.56  ...  2022-06-23         5044   \n",
       "8       80.18      0.12         3013    70.56  ...  2022-06-23         5068   \n",
       "9       80.18      0.12         3013    70.56  ...  2022-06-23         5077   \n",
       "\n",
       "  Start_Date   End_Date    Spend Targeted_Category Revenue_Attributed Profit  \\\n",
       "1 2023-01-21 2023-07-30  2472.34              Toys            7437.40  34.35   \n",
       "2 2023-01-23 2023-05-25  2108.81              Toys            8582.11  34.35   \n",
       "3 2023-05-09 2023-08-20  3392.61              Toys            8797.85  34.35   \n",
       "8 2023-02-10 2023-09-09   825.61              Toys            7988.38  34.35   \n",
       "9 2023-03-02 2023-06-17  1747.66              Toys            4743.91  34.35   \n",
       "\n",
       "  Customer_Age_Group  Channel_Switcher_Flag  \n",
       "1              Young                      1  \n",
       "2              Young                      1  \n",
       "3              Young                      1  \n",
       "8              Young                      1  \n",
       "9              Young                      1  \n",
       "\n",
       "[5 rows x 30 columns]"
      ]
     },
     "execution_count": 24,
     "metadata": {},
     "output_type": "execute_result"
    }
   ],
   "source": [
    "# show first 5 rows\n",
    "\n",
    "df.head()"
   ]
  }
 ],
 "metadata": {
  "kernelspec": {
   "display_name": ".conda",
   "language": "python",
   "name": "python3"
  },
  "language_info": {
   "codemirror_mode": {
    "name": "ipython",
    "version": 3
   },
   "file_extension": ".py",
   "mimetype": "text/x-python",
   "name": "python",
   "nbconvert_exporter": "python",
   "pygments_lexer": "ipython3",
   "version": "3.12.9"
  }
 },
 "nbformat": 4,
 "nbformat_minor": 5
}
